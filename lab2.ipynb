{
 "cells": [
  {
   "cell_type": "code",
   "execution_count": 1,
   "id": "07a763c2",
   "metadata": {},
   "outputs": [],
   "source": [
    "import random\n",
    "import math\n",
    "from tqdm.notebook import tqdm\n",
    "import matplotlib.pyplot as plt\n",
    "import seaborn as sns\n",
    "import numpy as np\n",
    "import pandas as pd"
   ]
  },
  {
   "cell_type": "markdown",
   "id": "6ba0c04d",
   "metadata": {},
   "source": [
    "# PART 1\n",
    "\n",
    "ONE DIMENSIONAL DIRECT METHODS OF OPTIMIZATION"
   ]
  },
  {
   "cell_type": "code",
   "execution_count": 2,
   "id": "cd5f9f40",
   "metadata": {},
   "outputs": [],
   "source": [
    "def exhaustive_search(f, x_min=0, x_max=1, eps=0.001):\n",
    "    n = (x_max - x_min) / eps\n",
    "    f_min = None\n",
    "    x_res = None\n",
    "    f_num = 0\n",
    "    iter_num = 0\n",
    "    for k in tqdm(range(int(n))):\n",
    "        iter_num += 1\n",
    "        x = x_min + k * eps\n",
    "        f_num += 1\n",
    "        f_res = f(x)\n",
    "        if f_min is None or f_res < f_min:\n",
    "            f_min = f_res\n",
    "            x_res = x\n",
    "    return f_num, iter_num\n",
    "\n",
    "def dichotomy(f, x_min=0, x_max=1, eps=0.001, delta=0.5):\n",
    "    delta *= eps\n",
    "    f_num = 0\n",
    "    iter_num = 0\n",
    "    pbar = tqdm()\n",
    "    while x_min + eps < x_max:\n",
    "        iter_num += 1\n",
    "        avg = (x_min + x_max) / 2\n",
    "        x1, x2 = avg - delta, avg + delta\n",
    "        f_num += 2\n",
    "        f1, f2 = map(f, (x1, x2))\n",
    "        if f1 <= f2:\n",
    "            x_max = x1\n",
    "        else:\n",
    "            x_min = x2\n",
    "        pbar.update(1)\n",
    "    pbar.close()\n",
    "    return f_num, iter_num\n",
    "\n",
    "def gold_section(f, x_min=0, x_max=1, eps=0.001):\n",
    "    gold_ratio = (3 - 5 ** 0.5) / 2\n",
    "    f_num = 0\n",
    "    iter_num = 0\n",
    "    pbar = tqdm()\n",
    "    while x_min + eps < x_max:\n",
    "        iter_num += 1\n",
    "        term = (x_max - x_min) * gold_ratio\n",
    "        x1, x2 = x_min + term, x_max - term\n",
    "        f_num += 2\n",
    "        f1, f2 = map(f, (x1, x2))\n",
    "        if f1 <= f2:\n",
    "            x_max = x1\n",
    "        else:\n",
    "            x_min = x2\n",
    "        pbar.update(1)\n",
    "    pbar.close()\n",
    "    return f_num, iter_num"
   ]
  },
  {
   "cell_type": "code",
   "execution_count": 3,
   "id": "139f355d",
   "metadata": {},
   "outputs": [],
   "source": [
    "formulas = (lambda x: x ** 3, lambda x: abs(x - 0.2), lambda x: x * math.sin(1 / x))\n",
    "domains = ((0, 1), (0, 1), (0.01, 1))"
   ]
  },
  {
   "cell_type": "code",
   "execution_count": 4,
   "id": "5409c385",
   "metadata": {},
   "outputs": [
    {
     "data": {
      "application/vnd.jupyter.widget-view+json": {
       "model_id": "b221c1a6e07d44218ca61f32a0556e86",
       "version_major": 2,
       "version_minor": 0
      },
      "text/plain": [
       "  0%|          | 0/1000 [00:00<?, ?it/s]"
      ]
     },
     "metadata": {},
     "output_type": "display_data"
    },
    {
     "data": {
      "application/vnd.jupyter.widget-view+json": {
       "model_id": "9a4d751397cd4a1c9abca576825c7cb5",
       "version_major": 2,
       "version_minor": 0
      },
      "text/plain": [
       "0it [00:00, ?it/s]"
      ]
     },
     "metadata": {},
     "output_type": "display_data"
    },
    {
     "data": {
      "application/vnd.jupyter.widget-view+json": {
       "model_id": "72ab708570ce4842a1d895e23e073d7f",
       "version_major": 2,
       "version_minor": 0
      },
      "text/plain": [
       "0it [00:00, ?it/s]"
      ]
     },
     "metadata": {},
     "output_type": "display_data"
    },
    {
     "data": {
      "application/vnd.jupyter.widget-view+json": {
       "model_id": "ccb2df082f4c415db4692de551b7f655",
       "version_major": 2,
       "version_minor": 0
      },
      "text/plain": [
       "  0%|          | 0/1000 [00:00<?, ?it/s]"
      ]
     },
     "metadata": {},
     "output_type": "display_data"
    },
    {
     "data": {
      "application/vnd.jupyter.widget-view+json": {
       "model_id": "2ce6f3df6f6a4e4ca06069c9853d7c1a",
       "version_major": 2,
       "version_minor": 0
      },
      "text/plain": [
       "0it [00:00, ?it/s]"
      ]
     },
     "metadata": {},
     "output_type": "display_data"
    },
    {
     "data": {
      "application/vnd.jupyter.widget-view+json": {
       "model_id": "b2b6c50ce9f54ee8b2e8a6335a511ba4",
       "version_major": 2,
       "version_minor": 0
      },
      "text/plain": [
       "0it [00:00, ?it/s]"
      ]
     },
     "metadata": {},
     "output_type": "display_data"
    },
    {
     "data": {
      "application/vnd.jupyter.widget-view+json": {
       "model_id": "f01467fa0a7f40eabbda50e74a28f704",
       "version_major": 2,
       "version_minor": 0
      },
      "text/plain": [
       "  0%|          | 0/990 [00:00<?, ?it/s]"
      ]
     },
     "metadata": {},
     "output_type": "display_data"
    },
    {
     "data": {
      "application/vnd.jupyter.widget-view+json": {
       "model_id": "a5d2db1b84dc43288c484fa2f9c996fc",
       "version_major": 2,
       "version_minor": 0
      },
      "text/plain": [
       "0it [00:00, ?it/s]"
      ]
     },
     "metadata": {},
     "output_type": "display_data"
    },
    {
     "data": {
      "application/vnd.jupyter.widget-view+json": {
       "model_id": "0d681d3c5bf14ec3aa73074854a2bef7",
       "version_major": 2,
       "version_minor": 0
      },
      "text/plain": [
       "0it [00:00, ?it/s]"
      ]
     },
     "metadata": {},
     "output_type": "display_data"
    },
    {
     "data": {
      "text/html": [
       "<div>\n",
       "<style scoped>\n",
       "    .dataframe tbody tr th:only-of-type {\n",
       "        vertical-align: middle;\n",
       "    }\n",
       "\n",
       "    .dataframe tbody tr th {\n",
       "        vertical-align: top;\n",
       "    }\n",
       "\n",
       "    .dataframe thead th {\n",
       "        text-align: right;\n",
       "    }\n",
       "</style>\n",
       "<table border=\"1\" class=\"dataframe\">\n",
       "  <thead>\n",
       "    <tr style=\"text-align: right;\">\n",
       "      <th></th>\n",
       "      <th>Formula</th>\n",
       "      <th>Method</th>\n",
       "      <th>Number of iterations</th>\n",
       "      <th>Number of function calls</th>\n",
       "    </tr>\n",
       "  </thead>\n",
       "  <tbody>\n",
       "    <tr>\n",
       "      <th>0</th>\n",
       "      <td>x ** 3</td>\n",
       "      <td>Exhaustive Search</td>\n",
       "      <td>1000</td>\n",
       "      <td>1000</td>\n",
       "    </tr>\n",
       "    <tr>\n",
       "      <th>1</th>\n",
       "      <td>x ** 3</td>\n",
       "      <td>Dichotomy</td>\n",
       "      <td>9</td>\n",
       "      <td>18</td>\n",
       "    </tr>\n",
       "    <tr>\n",
       "      <th>2</th>\n",
       "      <td>x ** 3</td>\n",
       "      <td>Gold Section</td>\n",
       "      <td>8</td>\n",
       "      <td>16</td>\n",
       "    </tr>\n",
       "    <tr>\n",
       "      <th>3</th>\n",
       "      <td>abs(x - 0.2)</td>\n",
       "      <td>Exhaustive Search</td>\n",
       "      <td>1000</td>\n",
       "      <td>1000</td>\n",
       "    </tr>\n",
       "    <tr>\n",
       "      <th>4</th>\n",
       "      <td>abs(x - 0.2)</td>\n",
       "      <td>Dichotomy</td>\n",
       "      <td>9</td>\n",
       "      <td>18</td>\n",
       "    </tr>\n",
       "    <tr>\n",
       "      <th>5</th>\n",
       "      <td>abs(x - 0.2)</td>\n",
       "      <td>Gold Section</td>\n",
       "      <td>8</td>\n",
       "      <td>16</td>\n",
       "    </tr>\n",
       "    <tr>\n",
       "      <th>6</th>\n",
       "      <td>x * sin(1/x)</td>\n",
       "      <td>Exhaustive Search</td>\n",
       "      <td>990</td>\n",
       "      <td>990</td>\n",
       "    </tr>\n",
       "    <tr>\n",
       "      <th>7</th>\n",
       "      <td>x * sin(1/x)</td>\n",
       "      <td>Dichotomy</td>\n",
       "      <td>9</td>\n",
       "      <td>18</td>\n",
       "    </tr>\n",
       "    <tr>\n",
       "      <th>8</th>\n",
       "      <td>x * sin(1/x)</td>\n",
       "      <td>Gold Section</td>\n",
       "      <td>8</td>\n",
       "      <td>16</td>\n",
       "    </tr>\n",
       "  </tbody>\n",
       "</table>\n",
       "</div>"
      ],
      "text/plain": [
       "        Formula             Method  Number of iterations  \\\n",
       "0        x ** 3  Exhaustive Search                  1000   \n",
       "1        x ** 3          Dichotomy                     9   \n",
       "2        x ** 3       Gold Section                     8   \n",
       "3  abs(x - 0.2)  Exhaustive Search                  1000   \n",
       "4  abs(x - 0.2)          Dichotomy                     9   \n",
       "5  abs(x - 0.2)       Gold Section                     8   \n",
       "6  x * sin(1/x)  Exhaustive Search                   990   \n",
       "7  x * sin(1/x)          Dichotomy                     9   \n",
       "8  x * sin(1/x)       Gold Section                     8   \n",
       "\n",
       "   Number of function calls  \n",
       "0                      1000  \n",
       "1                        18  \n",
       "2                        16  \n",
       "3                      1000  \n",
       "4                        18  \n",
       "5                        16  \n",
       "6                       990  \n",
       "7                        18  \n",
       "8                        16  "
      ]
     },
     "execution_count": 4,
     "metadata": {},
     "output_type": "execute_result"
    }
   ],
   "source": [
    "iter_nums, f_nums = [], []\n",
    "\n",
    "for i, (f, d) in enumerate(zip(formulas, domains)):\n",
    "    for method_func in (exhaustive_search, dichotomy, gold_section):\n",
    "        f_num, iter_num = method_func(f, *d)\n",
    "        iter_nums.append(iter_num)\n",
    "        f_nums.append(f_num)\n",
    "        \n",
    "f_repr = ['x ** 3', 'abs(x - 0.2)', 'x * sin(1/x)']\n",
    "pd.DataFrame({'Formula': [f_repr[x // 3] for x in range(len(formulas) * 3)], 'Method': ['Exhaustive Search', 'Dichotomy', 'Gold Section'] * len(formulas), 'Number of iterations': iter_nums, 'Number of function calls': f_nums})"
   ]
  },
  {
   "cell_type": "markdown",
   "id": "4bf0a312",
   "metadata": {},
   "source": [
    "# PART 2\n",
    "\n",
    "MULTIDIMENSIONAL DIRECT METHODS OF OPTIMIZATION"
   ]
  },
  {
   "cell_type": "code",
   "execution_count": 2,
   "id": "b510c8e4",
   "metadata": {},
   "outputs": [],
   "source": [
    "def generate_data(seed=None):\n",
    "    random.seed(seed)\n",
    "    alpha = random.random()\n",
    "    betta = random.random()\n",
    "    xs = np.linspace(0, 1, 101)\n",
    "    ys = [alpha * x + betta + random.random() for x in xs]\n",
    "    return xs, ys\n",
    "\n",
    "def score_func(f, a, b, xs, ys):\n",
    "    return sum((f(x, a, b) - y) ** 2 for x, y in zip(xs, ys))\n",
    "\n",
    "def exhaustive_search(f, xs, ys, x_min=0, x_max=1, eps=0.001, seed=None):\n",
    "    f_min = a_res = b_res = None\n",
    "    domain = np.linspace(x_min, x_max, math.ceil(1 / eps))\n",
    "    f_num = iter_num = 0\n",
    "    pbar = tqdm()\n",
    "    for a in domain:\n",
    "        for b in domain:\n",
    "            pbar.update()\n",
    "            iter_num += 1\n",
    "            f_num += 1\n",
    "            f_res = score_func(f, a, b, xs, ys)\n",
    "            if f_min is None or f_res < f_min:\n",
    "                f_min, a_res, b_res = f_res, a, b\n",
    "    pbar.close()\n",
    "    return f_num, iter_num, f_min, (a_res, b_res)\n",
    "\n",
    "def gauss(f, xs, ys, x_min=0, x_max=1, eps=0.001, seed=None):\n",
    "    f_num = 1\n",
    "    iter_num = 0\n",
    "    a_prev = b_prev = f_prev = None\n",
    "    random.seed(seed)\n",
    "    a_cur, b_cur = random.random() * (x_max - x_min) + x_min, random.random() * (x_max - x_min) + x_min\n",
    "    f_cur = score_func(f, a_cur, b_cur, xs, ys)\n",
    "    domain = np.linspace(x_min, x_max, math.ceil(1 / eps))\n",
    "    pbar = tqdm()\n",
    "    a_frozen = False\n",
    "    while not iter_num or not (((a_cur - a_prev) ** 2 + (b_cur - b_prev) ** 2) ** 0.5 < eps or abs(f_cur - f_prev) < eps):\n",
    "        f_min = None\n",
    "        if a_frozen:\n",
    "            for b in domain:\n",
    "                iter_num += 1\n",
    "                f_num += 1\n",
    "                f_res = score_func(f, a_cur, b, xs, ys)\n",
    "                if f_min is None or f_min > f_res:\n",
    "                    f_min = f_res\n",
    "                    b_res = b\n",
    "            a_cur, b_cur, a_prev, b_prev, f_cur, f_prev = a_cur, b_res, a_cur, b_cur, f_min, f_cur\n",
    "        else:\n",
    "            for a in domain:\n",
    "                iter_num += 1\n",
    "                f_num += 1\n",
    "                f_res = score_func(f, a, b_cur, xs, ys)\n",
    "                if f_min is None or f_min > f_res:\n",
    "                    f_min = f_res\n",
    "                    a_res = a\n",
    "            a_cur, b_cur, a_prev, b_prev, f_cur, f_prev = a_res, b_cur, a_cur, b_cur, f_min, f_cur\n",
    "        a_frozen ^= 1\n",
    "        pbar.update()\n",
    "    pbar.close()\n",
    "    return f_num, iter_num, f_cur, (a_cur, b_cur)\n",
    "\n",
    "def Nelder_Mead(f, xs, ys, x_min=0, x_max=1, eps=0.001, seed=None):\n",
    "    alpha = 1  # reflection coefficient\n",
    "    betta = 0.5  # shrinking coefficient\n",
    "    gamma = 2  # expansion coefficient\n",
    "    random.seed(seed)\n",
    "    points = [[random.random() * (x_max - x_min) + x_min for _ in range(2)] for _ in range(3)]\n",
    "    for i in range(3):\n",
    "        points[i].insert(0, score_func(f, *points[i], xs, ys))\n",
    "    points = np.array(points)\n",
    "    f_num = 3\n",
    "    iter_num = 0\n",
    "    pbar = tqdm()\n",
    "    while np.std([(p[1] ** 2 + p[2] ** 2) ** 0.5 for p in points]) >= eps:\n",
    "        iter_num += 1\n",
    "        points = points[points[:, 0].argsort(), :]\n",
    "        c = np.mean(points[:2], axis=1)[1:]\n",
    "        r = (1 + alpha) * c - alpha * points[2][1:]  # reflection\n",
    "        fr = score_func(f, *r, xs, ys)\n",
    "        f_num += 1\n",
    "        if fr < points[0][0]:\n",
    "            e = (1 - gamma) * c + gamma * r\n",
    "            fe = score_func(f, *e, xs, ys)  # expansion\n",
    "            f_num += 1\n",
    "            if fe < fr:\n",
    "                points[2] = [fe, *e]\n",
    "            else:\n",
    "                points[2] = [fr, *r]\n",
    "            pbar.update()\n",
    "            continue\n",
    "        elif fr < points[1][0]:\n",
    "            points[2] = [fr, *r]\n",
    "            pbar.update()\n",
    "            continue\n",
    "        elif fr < points[2][0]:\n",
    "            fr, r, points[2] = points[2][0], points[2][1:], [fr, *r]\n",
    "        s = betta * points[2][1:] + (1 - betta) * c\n",
    "        fs = score_func(f, *s, xs, ys)  # shrinking\n",
    "        f_num += 1\n",
    "        if fs < points[2][0]:\n",
    "            points[2] = [fs, *s]\n",
    "        else:\n",
    "            for i in range(1, 3):\n",
    "                points[i][1:] = (points[0][1:] + points[i][1:]) / 2\n",
    "                points[i][0] = score_func(f, *points[i][1:], xs, ys)\n",
    "                f_num += 1\n",
    "        pbar.update()\n",
    "    pbar.close()\n",
    "    \n",
    "    return f_num, iter_num, points[0][0], points[0][1:]\n",
    "            \n",
    "formulas = (lambda x, a, b: a * x + b, lambda x, a, b: a / (1 + b * x))"
   ]
  },
  {
   "cell_type": "code",
   "execution_count": 13,
   "id": "fbb03643",
   "metadata": {},
   "outputs": [
    {
     "data": {
      "application/vnd.jupyter.widget-view+json": {
       "model_id": "b343c7411f334e10ae36c89ce9331a3c",
       "version_major": 2,
       "version_minor": 0
      },
      "text/plain": [
       "0it [00:00, ?it/s]"
      ]
     },
     "metadata": {},
     "output_type": "display_data"
    },
    {
     "data": {
      "application/vnd.jupyter.widget-view+json": {
       "model_id": "8505f30055734d3f910fa41bb62862d7",
       "version_major": 2,
       "version_minor": 0
      },
      "text/plain": [
       "0it [00:00, ?it/s]"
      ]
     },
     "metadata": {},
     "output_type": "display_data"
    },
    {
     "data": {
      "application/vnd.jupyter.widget-view+json": {
       "model_id": "01be1702dcf94c32be404bf547fc9070",
       "version_major": 2,
       "version_minor": 0
      },
      "text/plain": [
       "0it [00:00, ?it/s]"
      ]
     },
     "metadata": {},
     "output_type": "display_data"
    },
    {
     "data": {
      "application/vnd.jupyter.widget-view+json": {
       "model_id": "a7f979ea9d8d442ab12d3943be8ec8b5",
       "version_major": 2,
       "version_minor": 0
      },
      "text/plain": [
       "0it [00:00, ?it/s]"
      ]
     },
     "metadata": {},
     "output_type": "display_data"
    },
    {
     "data": {
      "application/vnd.jupyter.widget-view+json": {
       "model_id": "b9f00647e39a43d49d245ed8afdef0b8",
       "version_major": 2,
       "version_minor": 0
      },
      "text/plain": [
       "0it [00:00, ?it/s]"
      ]
     },
     "metadata": {},
     "output_type": "display_data"
    },
    {
     "data": {
      "application/vnd.jupyter.widget-view+json": {
       "model_id": "19ae046745be4be28ee47a0882ee1b5e",
       "version_major": 2,
       "version_minor": 0
      },
      "text/plain": [
       "0it [00:00, ?it/s]"
      ]
     },
     "metadata": {},
     "output_type": "display_data"
    },
    {
     "data": {
      "text/html": [
       "<div>\n",
       "<style scoped>\n",
       "    .dataframe tbody tr th:only-of-type {\n",
       "        vertical-align: middle;\n",
       "    }\n",
       "\n",
       "    .dataframe tbody tr th {\n",
       "        vertical-align: top;\n",
       "    }\n",
       "\n",
       "    .dataframe thead th {\n",
       "        text-align: right;\n",
       "    }\n",
       "</style>\n",
       "<table border=\"1\" class=\"dataframe\">\n",
       "  <thead>\n",
       "    <tr style=\"text-align: right;\">\n",
       "      <th></th>\n",
       "      <th>Method</th>\n",
       "      <th>Formula</th>\n",
       "      <th>Number of iterations</th>\n",
       "      <th>Number of function calls</th>\n",
       "      <th>Found F minimum</th>\n",
       "    </tr>\n",
       "  </thead>\n",
       "  <tbody>\n",
       "    <tr>\n",
       "      <th>0</th>\n",
       "      <td>Exhaustive search</td>\n",
       "      <td>a * x + b</td>\n",
       "      <td>1000000</td>\n",
       "      <td>1000000</td>\n",
       "      <td>9.562289</td>\n",
       "    </tr>\n",
       "    <tr>\n",
       "      <th>1</th>\n",
       "      <td>Exhaustive search</td>\n",
       "      <td>a / (1 + b * x)</td>\n",
       "      <td>1000000</td>\n",
       "      <td>1000000</td>\n",
       "      <td>14.093677</td>\n",
       "    </tr>\n",
       "    <tr>\n",
       "      <th>2</th>\n",
       "      <td>Gauss</td>\n",
       "      <td>a * x + b</td>\n",
       "      <td>21000</td>\n",
       "      <td>21001</td>\n",
       "      <td>9.564772</td>\n",
       "    </tr>\n",
       "    <tr>\n",
       "      <th>3</th>\n",
       "      <td>Gauss</td>\n",
       "      <td>a / (1 + b * x)</td>\n",
       "      <td>4000</td>\n",
       "      <td>4001</td>\n",
       "      <td>14.093677</td>\n",
       "    </tr>\n",
       "    <tr>\n",
       "      <th>4</th>\n",
       "      <td>Nelder Mead</td>\n",
       "      <td>a * x + b</td>\n",
       "      <td>9</td>\n",
       "      <td>39</td>\n",
       "      <td>10.304735</td>\n",
       "    </tr>\n",
       "    <tr>\n",
       "      <th>5</th>\n",
       "      <td>Nelder Mead</td>\n",
       "      <td>a / (1 + b * x)</td>\n",
       "      <td>9</td>\n",
       "      <td>39</td>\n",
       "      <td>17.840468</td>\n",
       "    </tr>\n",
       "  </tbody>\n",
       "</table>\n",
       "</div>"
      ],
      "text/plain": [
       "              Method          Formula  Number of iterations  \\\n",
       "0  Exhaustive search        a * x + b               1000000   \n",
       "1  Exhaustive search  a / (1 + b * x)               1000000   \n",
       "2              Gauss        a * x + b                 21000   \n",
       "3              Gauss  a / (1 + b * x)                  4000   \n",
       "4        Nelder Mead        a * x + b                     9   \n",
       "5        Nelder Mead  a / (1 + b * x)                     9   \n",
       "\n",
       "   Number of function calls  Found F minimum  \n",
       "0                   1000000         9.562289  \n",
       "1                   1000000        14.093677  \n",
       "2                     21001         9.564772  \n",
       "3                      4001        14.093677  \n",
       "4                        39        10.304735  \n",
       "5                        39        17.840468  "
      ]
     },
     "execution_count": 13,
     "metadata": {},
     "output_type": "execute_result"
    }
   ],
   "source": [
    "seed = 1001\n",
    "xs, ys = generate_data(seed)\n",
    "x_min, x_max, eps = 0, 1, 0.001\n",
    "f_nums, iter_nums, f_mins, coeffs = [], [], [], []\n",
    "for method in (exhaustive_search, gauss, Nelder_Mead):\n",
    "    for formula in formulas:\n",
    "        f_num, iter_num, f_min, coeff = method(formula, xs, ys, x_min=x_min, x_max=x_max, eps=eps, seed=seed)\n",
    "        f_nums.append(f_num)\n",
    "        iter_nums.append(iter_num)\n",
    "        f_mins.append(f_min)\n",
    "        coeffs.append(coeff)\n",
    "        \n",
    "methods_repr = ['Exhaustive search', 'Gauss', 'Nelder Mead']\n",
    "formula_repr = ['a * x + b', 'a / (1 + b * x)']\n",
    "pd.DataFrame({'Method': [methods_repr[x // 2] for x in range(6)], 'Formula': formula_repr * 3, 'Number of iterations': iter_nums,\\\n",
    "             'Number of function calls': f_nums, 'Found F minimum': f_mins})"
   ]
  },
  {
   "cell_type": "code",
   "execution_count": 16,
   "id": "c2f04de1",
   "metadata": {},
   "outputs": [
    {
     "data": {
      "image/png": "[encoded data removed]",
      "text/plain": [
       "<Figure size 576x288 with 2 Axes>"
      ]
     },
     "metadata": {
      "needs_background": "light"
     },
     "output_type": "display_data"
    }
   ],
   "source": [
    "fig, axs = plt.subplots(1, 2, sharex=True, figsize=(8, 4))\n",
    "x_domain = np.linspace(0, 1)\n",
    "for i in range(2):\n",
    "    axs[i].set_title('f(x) = ' + formula_repr[i])\n",
    "    axs[i].scatter(x=xs, y=ys)\n",
    "    for j in range(3):\n",
    "        a, b = coeffs[j * 2 + i]\n",
    "        axs[i].plot(x_domain, [formulas[i](x, a, b) for x in x_domain])\n",
    "    axs[i].legend(list(methods_repr) + ['data'])"
   ]
  },
  {
   "cell_type": "code",
   "execution_count": 17,
   "id": "beba1529",
   "metadata": {},
   "outputs": [],
   "source": [
    "pd.DataFrame({'Method': [methods_repr[x // 2] for x in range(6)], 'Formula': formula_repr * 3, 'Number of iterations': iter_nums,\\\n",
    "             'Number of function calls': f_nums, 'Found F minimum': f_mins, 'a': [x[0] for x in coeffs], 'b': [x[1] for x in coeffs]}).to_csv('lab2_results.csv', index=False)"
   ]
  },
  {
   "cell_type": "code",
   "execution_count": null,
   "id": "b6ad7040",
   "metadata": {},
   "outputs": [],
   "source": []
  }
 ],
 "metadata": {
  "kernelspec": {
   "display_name": "Python 3",
   "language": "python",
   "name": "python3"
  },
  "language_info": {
   "codemirror_mode": {
    "name": "ipython",
    "version": 3
   },
   "file_extension": ".py",
   "mimetype": "text/x-python",
   "name": "python",
   "nbconvert_exporter": "python",
   "pygments_lexer": "ipython3",
   "version": "3.8.9"
  }
 },
 "nbformat": 4,
 "nbformat_minor": 5
}
